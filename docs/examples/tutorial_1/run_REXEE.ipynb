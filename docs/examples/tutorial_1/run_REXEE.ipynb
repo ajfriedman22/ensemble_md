{
 "cells": [
  {
   "cell_type": "markdown",
   "id": "87324540",
   "metadata": {},
   "source": [
    "# Tutorial 1: Launching a REXEE simulation"
   ]
  },
  {
   "cell_type": "markdown",
   "id": "48c42ec7",
   "metadata": {},
   "source": [
    "[![Binder](https://mybinder.org/badge_logo.svg)](https://mybinder.org/v2/gh/wehs7661/ensemble_md/c0f6d48ce3fe746e349e4a4a9610f935cca8b0b5?urlpath=lab%2Ftree%2Fdocs%2Fexamples%2Ftutorial_1%2Frun_REXEE.ipynb)\n",
    "\n",
    "In this tutorial, we will demonstrate how one can launch a REXEE simulation for a toy system using the CLI `run_REXEE` implemented in the python package `ensemble_md`. Here, our test system is molecule composed of four interaction sites in a box of water molecules. In the next tutorials, we will demonstrate how to analyze the output of the simulation, including the calculation of the solvation free energy of the molecule. For a more comprehensive understanding, we strongly recommend reading our [documentation](https://ensemble-md.readthedocs.io/en/latest/simulations.html) on launching REXEE simulations before starting this tutorial. The tutorial can be run on binder (without installation of anything) by clicking the badge above. "
   ]
  },
  {
   "cell_type": "markdown",
   "id": "451681c9",
   "metadata": {},
   "source": [
    "## 1. Prepare the simulation inputs"
   ]
  },
  {
   "cell_type": "markdown",
   "id": "7f1068a4",
   "metadata": {},
   "source": [
    "In the folder where this tutorial resides (`docs/examples/tutoria_1` in the repository), you will find all the necessary input files for this tutorial, including a GROMACS GRO file (`sys.gro`), a GROMACS TOP file (`sys.top`), a GROMACS MDP file (`expanded.mdp`), and a YAML file (`params.yaml`) that specifies input REXEE parameters."
   ]
  },
  {
   "cell_type": "code",
   "execution_count": 1,
   "id": "190945e2",
   "metadata": {},
   "outputs": [
    {
     "name": "stdout",
     "output_type": "stream",
     "text": [
      "expanded.mdp    params.yaml     run_REXEE.ipynb sys.gro         sys.top\n"
     ]
    }
   ],
   "source": [
    "!ls"
   ]
  },
  {
   "cell_type": "markdown",
   "id": "c07af380",
   "metadata": {},
   "source": [
    "As shown in the MDP file `expanded.mdp`, we have defined 9 alchemical intermediate states in total to decouple the van der Waals interactions and coulombic interactions. To decide the number of replicas and the state shift we would like to use in our REXEE simulation, we can use the CLI `explore_REXEE` to first enumerate all the possible REXEE configurations. (For more information on the CLI `explore_REXEE`, please run `explore_REXEE --help` in the terminal.)"
   ]
  },
  {
   "cell_type": "code",
   "execution_count": 2,
   "id": "9cd09a1a",
   "metadata": {},
   "outputs": [
    {
     "name": "stdout",
     "output_type": "stream",
     "text": [
      "Exploration of the REXEE parameter space\n",
      "=======================================\n",
      "[ REXEE parameters of interest ]\n",
      "- N: The total number of states\n",
      "- r: The number of replicas\n",
      "- n: The number of states for each replica\n",
      "- s: The state shift between adjacent replicas\n",
      "\n",
      "[ Solutions ]\n",
      "- Solution 1: (N, r, n, s) = (9, 2, 5, 4)\n",
      "  - Replica 0: [0, 1, 2, 3, 4]\n",
      "  - Replica 1: [4, 5, 6, 7, 8]\n",
      "\n",
      "- Solution 2: (N, r, n, s) = (9, 2, 6, 3)\n",
      "  - Replica 0: [0, 1, 2, 3, 4, 5]\n",
      "  - Replica 1: [3, 4, 5, 6, 7, 8]\n",
      "\n",
      "- Solution 3: (N, r, n, s) = (9, 2, 7, 2)\n",
      "  - Replica 0: [0, 1, 2, 3, 4, 5, 6]\n",
      "  - Replica 1: [2, 3, 4, 5, 6, 7, 8]\n",
      "\n",
      "- Solution 4: (N, r, n, s) = (9, 2, 8, 1)\n",
      "  - Replica 0: [0, 1, 2, 3, 4, 5, 6, 7]\n",
      "  - Replica 1: [1, 2, 3, 4, 5, 6, 7, 8]\n",
      "\n",
      "- Solution 5: (N, r, n, s) = (9, 3, 5, 2)\n",
      "  - Replica 0: [0, 1, 2, 3, 4]\n",
      "  - Replica 1: [2, 3, 4, 5, 6]\n",
      "  - Replica 2: [4, 5, 6, 7, 8]\n",
      "\n",
      "- Solution 6: (N, r, n, s) = (9, 3, 7, 1)\n",
      "  - Replica 0: [0, 1, 2, 3, 4, 5, 6]\n",
      "  - Replica 1: [1, 2, 3, 4, 5, 6, 7]\n",
      "  - Replica 2: [2, 3, 4, 5, 6, 7, 8]\n",
      "\n",
      "- Solution 7: (N, r, n, s) = (9, 4, 3, 2)\n",
      "  - Replica 0: [0, 1, 2]\n",
      "  - Replica 1: [2, 3, 4]\n",
      "  - Replica 2: [4, 5, 6]\n",
      "  - Replica 3: [6, 7, 8]\n",
      "\n",
      "- Solution 8: (N, r, n, s) = (9, 4, 6, 1)\n",
      "  - Replica 0: [0, 1, 2, 3, 4, 5]\n",
      "  - Replica 1: [1, 2, 3, 4, 5, 6]\n",
      "  - Replica 2: [2, 3, 4, 5, 6, 7]\n",
      "  - Replica 3: [3, 4, 5, 6, 7, 8]\n",
      "\n",
      "- Solution 9: (N, r, n, s) = (9, 5, 5, 1)\n",
      "  - Replica 0: [0, 1, 2, 3, 4]\n",
      "  - Replica 1: [1, 2, 3, 4, 5]\n",
      "  - Replica 2: [2, 3, 4, 5, 6]\n",
      "  - Replica 3: [3, 4, 5, 6, 7]\n",
      "  - Replica 4: [4, 5, 6, 7, 8]\n",
      "\n",
      "- Solution 10: (N, r, n, s) = (9, 6, 4, 1)\n",
      "  - Replica 0: [0, 1, 2, 3]\n",
      "  - Replica 1: [1, 2, 3, 4]\n",
      "  - Replica 2: [2, 3, 4, 5]\n",
      "  - Replica 3: [3, 4, 5, 6]\n",
      "  - Replica 4: [4, 5, 6, 7]\n",
      "  - Replica 5: [5, 6, 7, 8]\n",
      "\n",
      "- Solution 11: (N, r, n, s) = (9, 7, 3, 1)\n",
      "  - Replica 0: [0, 1, 2]\n",
      "  - Replica 1: [1, 2, 3]\n",
      "  - Replica 2: [2, 3, 4]\n",
      "  - Replica 3: [3, 4, 5]\n",
      "  - Replica 4: [4, 5, 6]\n",
      "  - Replica 5: [5, 6, 7]\n",
      "  - Replica 6: [6, 7, 8]\n",
      "\n",
      "- Solution 12: (N, r, n, s) = (9, 8, 2, 1)\n",
      "  - Replica 0: [0, 1]\n",
      "  - Replica 1: [1, 2]\n",
      "  - Replica 2: [2, 3]\n",
      "  - Replica 3: [3, 4]\n",
      "  - Replica 4: [4, 5]\n",
      "  - Replica 5: [5, 6]\n",
      "  - Replica 6: [6, 7]\n",
      "  - Replica 7: [7, 8]\n",
      "\n"
     ]
    }
   ],
   "source": [
    "!explore_REXEE -N 9"
   ]
  },
  {
   "cell_type": "markdown",
   "id": "30f3b1b5",
   "metadata": {},
   "source": [
    "Usually, a reasonable choice for the number of replicas would be a factor of available CPU cores on the node for running the simulation. For example, if you are runnin the simulation on a 32-core node, 4 replicas would be a good choice. To list all possible configurations that use 4 replicas for sampling 9 alchemical states, one can run the following:"
   ]
  },
  {
   "cell_type": "code",
   "execution_count": 3,
   "id": "a5983e85",
   "metadata": {},
   "outputs": [
    {
     "name": "stdout",
     "output_type": "stream",
     "text": [
      "Exploration of the REXEE parameter space\n",
      "=======================================\n",
      "[ REXEE parameters of interest ]\n",
      "- N: The total number of states\n",
      "- r: The number of replicas\n",
      "- n: The number of states for each replica\n",
      "- s: The state shift between adjacent replicas\n",
      "\n",
      "[ Solutions ]\n",
      "- Solution 1: (N, r, n, s) = (9, 4, 3, 2)\n",
      "  - Replica 0: [0, 1, 2]\n",
      "  - Replica 1: [2, 3, 4]\n",
      "  - Replica 2: [4, 5, 6]\n",
      "  - Replica 3: [6, 7, 8]\n",
      "\n",
      "- Solution 2: (N, r, n, s) = (9, 4, 6, 1)\n",
      "  - Replica 0: [0, 1, 2, 3, 4, 5]\n",
      "  - Replica 1: [1, 2, 3, 4, 5, 6]\n",
      "  - Replica 2: [2, 3, 4, 5, 6, 7]\n",
      "  - Replica 3: [3, 4, 5, 6, 7, 8]\n",
      "\n"
     ]
    }
   ],
   "source": [
    "!explore_REXEE -N 9 -r 4"
   ]
  },
  {
   "cell_type": "markdown",
   "id": "cb8dc295",
   "metadata": {},
   "source": [
    "Since a higher overlap between adjacent state sets generally facilitates "
   ]
  },
  {
   "cell_type": "code",
   "execution_count": 4,
   "id": "683eebdd",
   "metadata": {},
   "outputs": [
    {
     "name": "stdout",
     "output_type": "stream",
     "text": [
      "# User-defined parameters\n",
      "gmx_executable: 'gmx'               \n",
      "gro: sys.gro\n",
      "top: sys.top\n",
      "mdp: expanded.mdp             \n",
      "n_sim: 4\n",
      "n_iter: 5         \n",
      "s: 1                         \n",
      "nst_sim: 500\n",
      "runtime_args: {'-nt': '1', '-ntmpi': '1'}\n"
     ]
    }
   ],
   "source": [
    "!cat params.yaml"
   ]
  },
  {
   "cell_type": "markdown",
   "id": "16e79954",
   "metadata": {},
   "source": []
  },
  {
   "cell_type": "markdown",
   "id": "b2d9b443",
   "metadata": {},
   "source": [
    "In our case, the system of interest is a linear model composed of 4 interaction sites, where the first and last atom have a charge of +0.2 and -0.2, respectively. In `expanded.mdp`, we define 9 alchemical states in total to decouple the van der Waals interactions and coulombic interactions. Our goal is to run an ensemble composed of 4 replicas of expanded ensemble, each of which sample 6 alchemical states, with the shift between adjacent replicas being 1 state. That is, we want replicas 0 to 3 to sample states 0 to 6, 1 to 7, 2 to 8, and 3 to 9, respectively. Each replica will be performed for 5 iterations, with the length of each iteration being 500 steps (i.e. 1 ps). We will use the Metropolis MC scheme to swap replicas, and use exponential averaging with histogram correction for combining weights of exchanging replicas. The histogram cutoff will be set as 1000 to avoid overcorrection and we will swap 2 pairs of replicas in each attempt when possible. All STDOUT will be redirected to `results.txt`. "
   ]
  },
  {
   "cell_type": "markdown",
   "id": "6cedf8d9",
   "metadata": {},
   "source": [
    "## 2. Run the REXEE simulation\n",
    "With the input files above, we can now run the REXEE simulation using the CLI `run_REXEE` withthe following command:"
   ]
  },
  {
   "cell_type": "code",
   "execution_count": 5,
   "id": "443dd9af",
   "metadata": {},
   "outputs": [
    {
     "name": "stdout",
     "output_type": "stream",
     "text": [
      "Current time: 17/05/2024 14:30:29\n",
      "Command line: /Users/Wei-TseHsu/miniconda3/bin/run_REXEE\n",
      "\n",
      "Important parameters of REXEE\n",
      "=============================\n",
      "Python version: 3.8.12 | packaged by conda-forge | (default, Jan 30 2022, 23:36:06) \n",
      "[Clang 11.1.0 ]\n",
      "GROMACS executable: /usr/local/bin/gmx\n",
      "GROMACS version: 2022.3-dev-20230426-4eabaf582b\n",
      "ensemble_md version: 0.9.0+140.gc0f6d48.dirty\n",
      "Simulation inputs: sys.gro, sys.top, expanded.mdp\n",
      "Verbose log file: True\n",
      "Proposal scheme: exhaustive\n",
      "Whether to perform weight combination: False\n",
      "Type of means for weight combination: simple\n",
      "Whether to perform histogram correction: False\n",
      "Histogram cutoff for weight correction: -1\n",
      "Number of replicas: 4\n",
      "Number of iterations: 5\n",
      "Length of each replica: 1.0 ps\n",
      "Frequency for checkpointing: 100 iterations\n",
      "Total number of states: 9\n",
      "Additionally defined swappable states: None\n",
      "Additional grompp arguments: None\n",
      "Additional runtime arguments: {'-nt': '1', '-ntmpi': '1'}\n",
      "External modules for coordinate manipulation: None\n",
      "MDP parameters differing across replicas: None\n",
      "Alchemical ranges of each replica in REXEE:\n",
      "  - Replica 0: States [0, 1, 2, 3, 4, 5]\n",
      "  - Replica 1: States [1, 2, 3, 4, 5, 6]\n",
      "  - Replica 2: States [2, 3, 4, 5, 6, 7]\n",
      "  - Replica 3: States [3, 4, 5, 6, 7, 8]\n",
      "\n",
      "Iteration 0:  0.0 -  1.0 ps\n",
      "===========================\n",
      "Generating TPR files ...\n",
      "Running EXE simulations ...\n",
      "\n",
      "Below are the final states being visited:\n",
      "  Simulation 0: Global state 0\n",
      "  Simulation 1: Global state 2\n",
      "  Simulation 2: Global state 3\n",
      "  Simulation 3: Global state 6\n",
      "\n",
      "Parsing ./sim_0/iteration_0/md.log ...\n",
      "Parsing ./sim_1/iteration_0/md.log ...\n",
      "Parsing ./sim_2/iteration_0/md.log ...\n",
      "Parsing ./sim_3/iteration_0/md.log ...\n",
      "\n",
      "Swappable pairs: [(1, 2), (2, 3)]\n",
      "\n",
      "Proposed swap: (2, 3)\n",
      "  Proposing a move from (x^i_m, x^j_n) to (x^i_n, x^j_m) ...\n",
      "  U^i_n - U^i_m = 4.62 kT, U^j_m - U^j_n = 0.81 kT, Total dU: 5.43 kT\n",
      "  Acceptance rate: 0.004 / Random number drawn: 0.003\n",
      "  Swap accepted! \n",
      "  Current list of configurations: [0, 1, 3, 2]\n",
      "\n",
      "Remaining swappable pairs: []\n",
      "\n",
      "The finally adopted swap pattern: [0, 1, 3, 2]\n",
      "The list of configurations sampled in each replica in the next iteration: [0, 1, 3, 2]\n",
      "Note: No weight correction will be performed.\n",
      "Note: No weight combination will be performed.\n",
      "\n",
      "  The alchemical weights of all states: \n",
      "  [0.0, 1.613, 2.714, 3.409, 3.604, 4.785, 5.38, 3.298, 0.363]\n",
      "\n",
      "Iteration 1:  1.0 -  2.0 ps\n",
      "===========================\n",
      "Generating TPR files ...\n",
      "Running EXE simulations ...\n",
      "\n",
      "Below are the final states being visited:\n",
      "  Simulation 0: Global state 3\n",
      "  Simulation 1: Global state 5\n",
      "  Simulation 2: Global state 6\n",
      "  Simulation 3: Global state 4\n",
      "\n",
      "Parsing ./sim_0/iteration_1/md.log ...\n",
      "Parsing ./sim_1/iteration_1/md.log ...\n",
      "Parsing ./sim_2/iteration_1/md.log ...\n",
      "Parsing ./sim_3/iteration_1/md.log ...\n",
      "\n",
      "Swappable pairs: [(0, 1), (0, 3), (1, 2), (1, 3), (2, 3)]\n",
      "\n",
      "Proposed swap: (2, 3)\n",
      "  Proposing a move from (x^i_m, x^j_n) to (x^i_n, x^j_m) ...\n",
      "  U^i_n - U^i_m = 4.19 kT, U^j_m - U^j_n = 5.74 kT, Total dU: 9.93 kT\n",
      "  Acceptance rate: 0.000 / Random number drawn: 0.319\n",
      "  Swap rejected! \n",
      "  Current list of configurations: [0, 1, 3, 2]\n",
      "\n",
      "Remaining swappable pairs: [(0, 1)]\n",
      "\n",
      "Proposed swap: (0, 1)\n",
      "  Proposing a move from (x^i_m, x^j_n) to (x^i_n, x^j_m) ...\n",
      "  U^i_n - U^i_m = 1.19 kT, U^j_m - U^j_n = 2.01 kT, Total dU: 3.20 kT\n",
      "  Acceptance rate: 0.041 / Random number drawn: 0.176\n",
      "  Swap rejected! \n",
      "  Current list of configurations: [0, 1, 3, 2]\n",
      "\n",
      "The finally adopted swap pattern: [0, 1, 2, 3]\n",
      "The list of configurations sampled in each replica in the next iteration: [0, 1, 3, 2]\n",
      "Note: No weight correction will be performed.\n",
      "Note: No weight combination will be performed.\n",
      "\n",
      "  The alchemical weights of all states: \n",
      "  [0.0, 1.613, 2.714, 3.409, 3.604, 4.785, 5.38, 3.298, 0.363]\n",
      "\n",
      "Iteration 2:  2.0 -  3.0 ps\n",
      "===========================\n",
      "Generating TPR files ...\n",
      "Running EXE simulations ...\n",
      "\n",
      "Below are the final states being visited:\n",
      "  Simulation 0: Global state 1\n",
      "  Simulation 1: Global state 6\n",
      "  Simulation 2: Global state 7\n",
      "  Simulation 3: Global state 3\n",
      "\n",
      "Parsing ./sim_0/iteration_2/md.log ...\n",
      "Parsing ./sim_1/iteration_2/md.log ...\n",
      "Parsing ./sim_2/iteration_2/md.log ...\n",
      "Parsing ./sim_3/iteration_2/md.log ...\n",
      "\n",
      "Swappable pairs: [(1, 3), (2, 3)]\n",
      "\n",
      "Proposed swap: (1, 3)\n",
      "  Proposing a move from (x^i_m, x^j_n) to (x^i_n, x^j_m) ...\n",
      "  U^i_n - U^i_m = 11.17 kT, U^j_m - U^j_n = 6.72 kT, Total dU: 17.90 kT\n",
      "  Acceptance rate: 0.000 / Random number drawn: 0.004\n",
      "  Swap rejected! \n",
      "  Current list of configurations: [0, 1, 3, 2]\n",
      "\n",
      "Remaining swappable pairs: []\n",
      "\n",
      "The finally adopted swap pattern: [0, 1, 2, 3]\n",
      "The list of configurations sampled in each replica in the next iteration: [0, 1, 3, 2]\n",
      "Note: No weight correction will be performed.\n",
      "Note: No weight combination will be performed.\n",
      "\n",
      "  The alchemical weights of all states: \n",
      "  [0.0, 1.613, 2.714, 3.409, 3.604, 4.785, 5.38, 3.298, 0.363]\n",
      "\n",
      "Iteration 3:  3.0 -  4.0 ps\n",
      "===========================\n",
      "Generating TPR files ...\n",
      "Running EXE simulations ...\n",
      "\n",
      "Below are the final states being visited:\n",
      "  Simulation 0: Global state 1\n",
      "  Simulation 1: Global state 5\n",
      "  Simulation 2: Global state 2\n",
      "  Simulation 3: Global state 3\n",
      "\n",
      "Parsing ./sim_0/iteration_3/md.log ...\n",
      "Parsing ./sim_1/iteration_3/md.log ...\n",
      "Parsing ./sim_2/iteration_3/md.log ...\n",
      "Parsing ./sim_3/iteration_3/md.log ...\n",
      "\n",
      "Swappable pairs: [(0, 1), (1, 2), (1, 3)]\n",
      "\n",
      "Proposed swap: (1, 2)\n",
      "  Proposing a move from (x^i_m, x^j_n) to (x^i_n, x^j_m) ...\n",
      "  U^i_n - U^i_m = -3.69 kT, U^j_m - U^j_n = 5.86 kT, Total dU: 2.17 kT\n",
      "  Acceptance rate: 0.114 / Random number drawn: 0.126\n",
      "  Swap rejected! \n",
      "  Current list of configurations: [0, 1, 3, 2]\n",
      "\n",
      "Remaining swappable pairs: []\n",
      "\n",
      "The finally adopted swap pattern: [0, 1, 2, 3]\n",
      "The list of configurations sampled in each replica in the next iteration: [0, 1, 3, 2]\n",
      "Note: No weight correction will be performed.\n",
      "Note: No weight combination will be performed.\n",
      "\n",
      "  The alchemical weights of all states: \n",
      "  [0.0, 1.613, 2.714, 3.409, 3.604, 4.785, 5.38, 3.298, 0.363]\n",
      "\n",
      "Iteration 4:  4.0 -  5.0 ps\n",
      "===========================\n",
      "Generating TPR files ...\n",
      "Running EXE simulations ...\n",
      "\n",
      "Summary of the simulation ensemble\n",
      "==================================\n",
      "Simulation status:\n",
      "- Rep 0: The weights were fixed throughout the simulation.\n",
      "- Rep 1: The weights were fixed throughout the simulation.\n",
      "- Rep 2: The weights were fixed throughout the simulation.\n",
      "- Rep 3: The weights were fixed throughout the simulation.\n",
      "\n",
      "0 out of 5, or 0.0% iterations had an empty list of swappable pairs.\n",
      "4 out of 5, or 80.0% of attempted exchanges were rejected.\n",
      "\n",
      "Time elapsed: 14 minute(s) 52 second(s)\n"
     ]
    }
   ],
   "source": [
    "!mpirun -np 4 run_REXEE"
   ]
  },
  {
   "cell_type": "markdown",
   "id": "3ebdb692",
   "metadata": {},
   "source": []
  }
 ],
 "metadata": {
  "kernelspec": {
   "display_name": "Python 3",
   "language": "python",
   "name": "python3"
  },
  "language_info": {
   "codemirror_mode": {
    "name": "ipython",
    "version": 3
   },
   "file_extension": ".py",
   "mimetype": "text/x-python",
   "name": "python",
   "nbconvert_exporter": "python",
   "pygments_lexer": "ipython3",
   "version": "3.9.15"
  }
 },
 "nbformat": 4,
 "nbformat_minor": 5
}
