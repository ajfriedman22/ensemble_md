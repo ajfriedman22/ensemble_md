{
 "cells": [
  {
   "cell_type": "markdown",
   "id": "87324540",
   "metadata": {},
   "source": [
    "# Tutorial 1: Standard REXEE simulations"
   ]
  },
  {
   "cell_type": "markdown",
   "id": "48c42ec7",
   "metadata": {},
   "source": [
    "[![Binder](https://mybinder.org/badge_logo.svg)](https://mybinder.org/v2/gh/wehs7661/ensemble_md/c0f6d48ce3fe746e349e4a4a9610f935cca8b0b5?urlpath=lab%2Ftree%2Fdocs%2Fexamples%2Ftutorial_1%2Frun_REXEE.ipynb)\n",
    "\n",
    "In this tutorial, we will demonstrate how one can use the different command-line interfaces (CLIs) implemented in the Python package `ensemble_md` to prepare, perform, and analyze a REXEE simulation to estimate the solvation free energy of a toy molecule composed of 4 interaction sites. For a more comprehensive understanding, we strongly recommend reading our [documentation](https://ensemble-md.readthedocs.io/en/latest/simulations.html) on launching REXEE simulations before starting this tutorial. With MPI (`mpirun` or `mpiexec`), GROMACS and `ensemble_md` all installed, you should be able to run this tutorial either locally or on a HPC cluster, as long as you have at least four CPU cores. Alternatively, you can click the badge above to run this tutorial on Binder without installing anything. Notably, this tutorial assumes that you understand the basics of the expanded ensemble (EE) method and relevant simulation parameters in GROMACS. If not, we recommend reading the [GROMACS documentation](https://manual.gromacs.org/current/reference-manual/algorithms/expanded-ensemble.html) and/or [this tutorial](https://weitsehsu.com/course/advanced_sampling/exe/). "
   ]
  },
  {
   "cell_type": "markdown",
   "id": "68b7fa66",
   "metadata": {},
   "source": [
    "## 0. Background knowledge: A two-stage protocol"
   ]
  },
  {
   "cell_type": "markdown",
   "id": "318b8d5c",
   "metadata": {},
   "source": [
    "In methods such as expanded ensembles or REXEE, where each alchemical state has an associated weight (see [here](https://ensemble-md.readthedocs.io/en/latest/simulations.html)), it is common to use a two-stage protocol for alchemical free energy calculations. Specifically, this protocol is composed of the following two stages:\n",
    "\n",
    "- A **weight-updating stage**: In a weight-updating stage, the weights of the different states are constantly updated until convergence during the simulation, usually by methods such as the Wang-Landau algorithm or its $1/t$ variant. The purpose of this stage is to obtain weights that could flatten out the free energy surface along the alchemical direction such that all states have a roughly equal chance to be visited in the next stage, i.e., the fixed-weight stage. \n",
    "- A **fixed-weight stage**: In a fixed-weight stage, the weights of different alchemical states are fixed at predefined values usually converged in a weight-updating stage. Unlike weight-updating simulations, a fixed-weight simulation is in equilibrium, and can therefore be analyzed by free energy estimators that require equilibrium data for free energy calculations, such as TI, BAR, MBAR, etc. \n",
    "\n",
    "With this protocol, one can use a weight-updating EE/REXEE simulation followed by a fixed-weight EE/REXEE simulation. In our [paper](https://pubs.acs.org/doi/10.1021/acs.jctc.4c00484), we have compared EE and REXEE methods in both weight-updating and fixed-weight phases comprehensively. \n",
    "\n",
    "Notably, this tutorial will only focus on fixed-weight REXEE simulations, with the weights provided by a weight-updating EE simulation not shown here. A weight-updating REXEE simulation can be performed simply by using the same workflow for running fixed-weight REXEE simulations, with input MDP files replaced by the ones for weight-updating EE simulations."
   ]
  },
  {
   "cell_type": "markdown",
   "id": "451681c9",
   "metadata": {},
   "source": [
    "## 1. Preparing simulation inputs for a REXEE simulation"
   ]
  },
  {
   "cell_type": "markdown",
   "id": "7f1068a4",
   "metadata": {},
   "source": [
    "As mentioned in our documentation, running a REXEE simulation at least requires the following four input files:\n",
    "\n",
    "- One YAML file that specifies REXEE parameters.\n",
    "- One GROMACS GRO file of the system of interst.\n",
    "- One GROMACS TOP file of the system of interst.\n",
    "- One GROMACS MDP template for customizing MDP files for different replicas during the simulation.\n",
    "\n",
    "In the folder where this tutorial resides (`docs/examples/tutoria_1` in the repository), you should find all these necessary input files, including `params.yaml`, `sys.gro`, `sys.top`, and `expanded.mdp`."
   ]
  },
  {
   "cell_type": "code",
   "execution_count": 1,
   "id": "190945e2",
   "metadata": {},
   "outputs": [
    {
     "name": "stdout",
     "output_type": "stream",
     "text": [
      "expanded.mdp  run_REXEE_log.txt  sim_1\tsim_3\t\t      sys.gro\n",
      "params.yaml   sim_0\t\t sim_2\tstandard_REXEE.ipynb  sys.top\n"
     ]
    }
   ],
   "source": [
    "!ls"
   ]
  },
  {
   "cell_type": "markdown",
   "id": "389df378",
   "metadata": {},
   "source": [
    "While you could use multiple GRO and TOP files, one for each replica in a REXEE simulation, in this tutorial, we will use the same GRO and TOP files for all replicas to keep the demonstration straightforward. As for the MDP template `expanded.mdp`, it can be inspected that it adopts common/typical settings for a fixed-weight EE simulation, since here our goal is to set up a fixed-weight REXEE simulation. In the MDP template, it can also be seen that 9 alchemical intermediate states are defined to decouple van der Waals interactions and coulombic interactions. \n",
    "\n",
    "During the REXEE simulation, customized MDP files will be generated for different replicas such that the MDP file for each replica only consider the set of states that the replica is constrained to. Notably, the weights specified via the parameter `init_lambda_weights` were obtained from a weight-updating EE simulation. If you would like to run a weight-updating REXEE simulation, simply use an MDP file for running a weight-updating EE simulation, i.e., and MDP file without `init_lambda_weights` being specified, and with options such as `wl_scale`, `wl_ratio`, `init_wl_delta`, `lmc_stats`, `lmc_weights_equil`, `weight_equil_wl_delta` specified.\n",
    "\n",
    "Now, with these three GROMACS inputs prepared, let's briefly review the input YAML file that specifies REXEE parameters."
   ]
  },
  {
   "cell_type": "code",
   "execution_count": 2,
   "id": "6732a2d8",
   "metadata": {},
   "outputs": [
    {
     "name": "stdout",
     "output_type": "stream",
     "text": [
      "# Simulation parameters\n",
      "gmx_executable: 'gmx'               \n",
      "gro: sys.gro\n",
      "top: sys.top\n",
      "mdp: expanded.mdp             \n",
      "n_sim: 4\n",
      "n_iter: 5         \n",
      "s: 1                         \n",
      "nst_sim: 500\n",
      "runtime_args: {'-nt': '1'}\n",
      "\n",
      "# Data analysis parameters\n",
      "free_energy: True\n"
     ]
    }
   ],
   "source": [
    "!cat params.yaml"
   ]
  },
  {
   "cell_type": "markdown",
   "id": "c2bff331",
   "metadata": {},
   "source": [
    "As a minimum working example, this YAML file only specifies the compulsory simulation parameters and adopts default values for all optional parameters, execpt that `runtime_args` is specified to run each EE replica using one thread (`-nt 1`) so that it would not take too long to complete the simulation. For information about all possible parameters that can be specified in the YAML file, please refer to our [documentation](https://ensemble-md.readthedocs.io/en/latest/simulations.html#input-yaml-parameters).\n",
    "\n",
    "In our case, we will run our a REXEE simulation composed of 4 replicas, with each replica performed with one thread (`-nt 1`). With the total number of states as 9 and a state shift of 1, this means that replicas 0, 1, 2, 3 are constrained to sampling states 0-5, 1-6, 2-7, and 3-8, respectively. The simulation will attempt to swap coordinates between replicas every 500 integration steps, and perform 5 iterations in total. (Note that generally we need a much larger number of iterations. Here we use a very small value just for demosntration purposes.) \n",
    "\n",
    "If you are interested in trying out other numbers of replicas or state shifts given 9 alchemical intermediate states, you can use the CLI `explore_REXEE` to enumerate all possible REXEE configurations."
   ]
  },
  {
   "cell_type": "code",
   "execution_count": 3,
   "id": "9cd09a1a",
   "metadata": {},
   "outputs": [
    {
     "name": "stdout",
     "output_type": "stream",
     "text": [
      "Exploration of the REXEE parameter space\n",
      "=======================================\n",
      "[ REXEE parameters of interest ]\n",
      "- N: The total number of states\n",
      "- r: The number of replicas\n",
      "- n: The number of states for each replica\n",
      "- s: The state shift between adjacent replicas\n",
      "\n",
      "[ Solutions ]\n",
      "- Solution 1: (N, r, n, s) = (9, 2, 5, 4)\n",
      "  - Replica 0: [0, 1, 2, 3, 4]\n",
      "  - Replica 1: [4, 5, 6, 7, 8]\n",
      "\n",
      "- Solution 2: (N, r, n, s) = (9, 2, 6, 3)\n",
      "  - Replica 0: [0, 1, 2, 3, 4, 5]\n",
      "  - Replica 1: [3, 4, 5, 6, 7, 8]\n",
      "\n",
      "- Solution 3: (N, r, n, s) = (9, 2, 7, 2)\n",
      "  - Replica 0: [0, 1, 2, 3, 4, 5, 6]\n",
      "  - Replica 1: [2, 3, 4, 5, 6, 7, 8]\n",
      "\n",
      "- Solution 4: (N, r, n, s) = (9, 2, 8, 1)\n",
      "  - Replica 0: [0, 1, 2, 3, 4, 5, 6, 7]\n",
      "  - Replica 1: [1, 2, 3, 4, 5, 6, 7, 8]\n",
      "\n",
      "- Solution 5: (N, r, n, s) = (9, 3, 5, 2)\n",
      "  - Replica 0: [0, 1, 2, 3, 4]\n",
      "  - Replica 1: [2, 3, 4, 5, 6]\n",
      "  - Replica 2: [4, 5, 6, 7, 8]\n",
      "\n",
      "- Solution 6: (N, r, n, s) = (9, 3, 7, 1)\n",
      "  - Replica 0: [0, 1, 2, 3, 4, 5, 6]\n",
      "  - Replica 1: [1, 2, 3, 4, 5, 6, 7]\n",
      "  - Replica 2: [2, 3, 4, 5, 6, 7, 8]\n",
      "\n",
      "- Solution 7: (N, r, n, s) = (9, 4, 3, 2)\n",
      "  - Replica 0: [0, 1, 2]\n",
      "  - Replica 1: [2, 3, 4]\n",
      "  - Replica 2: [4, 5, 6]\n",
      "  - Replica 3: [6, 7, 8]\n",
      "\n",
      "- Solution 8: (N, r, n, s) = (9, 4, 6, 1)\n",
      "  - Replica 0: [0, 1, 2, 3, 4, 5]\n",
      "  - Replica 1: [1, 2, 3, 4, 5, 6]\n",
      "  - Replica 2: [2, 3, 4, 5, 6, 7]\n",
      "  - Replica 3: [3, 4, 5, 6, 7, 8]\n",
      "\n",
      "- Solution 9: (N, r, n, s) = (9, 5, 5, 1)\n",
      "  - Replica 0: [0, 1, 2, 3, 4]\n",
      "  - Replica 1: [1, 2, 3, 4, 5]\n",
      "  - Replica 2: [2, 3, 4, 5, 6]\n",
      "  - Replica 3: [3, 4, 5, 6, 7]\n",
      "  - Replica 4: [4, 5, 6, 7, 8]\n",
      "\n",
      "- Solution 10: (N, r, n, s) = (9, 6, 4, 1)\n",
      "  - Replica 0: [0, 1, 2, 3]\n",
      "  - Replica 1: [1, 2, 3, 4]\n",
      "  - Replica 2: [2, 3, 4, 5]\n",
      "  - Replica 3: [3, 4, 5, 6]\n",
      "  - Replica 4: [4, 5, 6, 7]\n",
      "  - Replica 5: [5, 6, 7, 8]\n",
      "\n",
      "- Solution 11: (N, r, n, s) = (9, 7, 3, 1)\n",
      "  - Replica 0: [0, 1, 2]\n",
      "  - Replica 1: [1, 2, 3]\n",
      "  - Replica 2: [2, 3, 4]\n",
      "  - Replica 3: [3, 4, 5]\n",
      "  - Replica 4: [4, 5, 6]\n",
      "  - Replica 5: [5, 6, 7]\n",
      "  - Replica 6: [6, 7, 8]\n",
      "\n",
      "- Solution 12: (N, r, n, s) = (9, 8, 2, 1)\n",
      "  - Replica 0: [0, 1]\n",
      "  - Replica 1: [1, 2]\n",
      "  - Replica 2: [2, 3]\n",
      "  - Replica 3: [3, 4]\n",
      "  - Replica 4: [4, 5]\n",
      "  - Replica 5: [5, 6]\n",
      "  - Replica 6: [6, 7]\n",
      "  - Replica 7: [7, 8]\n",
      "\n"
     ]
    }
   ],
   "source": [
    "!explore_REXEE -N 9"
   ]
  },
  {
   "cell_type": "markdown",
   "id": "f2069dec",
   "metadata": {},
   "source": [
    "If you want to list all possible configurations that use 4 replicas for sampling 9 alchemical states, you can further specify the number of replicas via the flag `-r`:"
   ]
  },
  {
   "cell_type": "code",
   "execution_count": 4,
   "id": "b6a2859c",
   "metadata": {},
   "outputs": [
    {
     "name": "stdout",
     "output_type": "stream",
     "text": [
      "Exploration of the REXEE parameter space\n",
      "=======================================\n",
      "[ REXEE parameters of interest ]\n",
      "- N: The total number of states\n",
      "- r: The number of replicas\n",
      "- n: The number of states for each replica\n",
      "- s: The state shift between adjacent replicas\n",
      "\n",
      "[ Solutions ]\n",
      "- Solution 1: (N, r, n, s) = (9, 4, 3, 2)\n",
      "  - Replica 0: [0, 1, 2]\n",
      "  - Replica 1: [2, 3, 4]\n",
      "  - Replica 2: [4, 5, 6]\n",
      "  - Replica 3: [6, 7, 8]\n",
      "\n",
      "- Solution 2: (N, r, n, s) = (9, 4, 6, 1)\n",
      "  - Replica 0: [0, 1, 2, 3, 4, 5]\n",
      "  - Replica 1: [1, 2, 3, 4, 5, 6]\n",
      "  - Replica 2: [2, 3, 4, 5, 6, 7]\n",
      "  - Replica 3: [3, 4, 5, 6, 7, 8]\n",
      "\n"
     ]
    }
   ],
   "source": [
    "!explore_REXEE -N 9 -r 4"
   ]
  },
  {
   "cell_type": "markdown",
   "id": "3731c625",
   "metadata": {},
   "source": [
    "For rules of thumb about specifying the configurational parameters (including the number of states, number of replicas, state shift and swapping frequency), please refer to our [documentation](https://ensemble-md.readthedocs.io/en/latest/simulations.html#some-rules-of-thumb) or [paper](https://pubs.acs.org/doi/epdf/10.1021/acs.jctc.4c00484)."
   ]
  },
  {
   "cell_type": "markdown",
   "id": "6cedf8d9",
   "metadata": {},
   "source": [
    "## 2. Performing a REXEE simulation\n",
    "With all the input files in place, we can now run a fixed-weight REXEE simulation using the CLI `run_REXEE` with the command shown below. \n",
    "\n",
    "If you are using a laptop with 4 CPU cores, this should take around 15 minutes to complete. If you run the tutorial on Binder, this should take around XXX minutes. Note that here we use default values for all flags of the CLI `run_REXEE`. For more information about the flags, please run `run_REXEE -h`/`run_REXEE --help` and read the help message."
   ]
  },
  {
   "cell_type": "code",
   "execution_count": 8,
   "id": "443dd9af",
   "metadata": {},
   "outputs": [
    {
     "name": "stdout",
     "output_type": "stream",
     "text": [
      "Current time: 29/07/2024 18:51:10\n",
      "Command line: /srv/conda/envs/notebook/bin/run_REXEE\n",
      "\n",
      "Important parameters of REXEE\n",
      "=============================\n",
      "Python version: 3.10.14 | packaged by conda-forge | (main, Mar 20 2024, 12:45:18) [GCC 12.3.0]\n",
      "GROMACS executable: /srv/conda/envs/notebook/bin.AVX2_256/gmx\n",
      "GROMACS version: 2023.3-conda_forge\n",
      "ensemble_md version: 0.9.0+159.g813e06f.dirty\n",
      "Simulation inputs: sys.gro, sys.top, expanded.mdp\n",
      "Verbose log file: True\n",
      "Proposal scheme: exhaustive\n",
      "Whether to perform weight combination: False\n",
      "Type of means for weight combination: simple\n",
      "Whether to perform histogram correction: False\n",
      "Histogram cutoff for weight correction: -1\n",
      "Number of replicas: 4\n",
      "Number of iterations: 5\n",
      "Length of each replica: 1.0 ps\n",
      "Frequency for checkpointing: 100 iterations\n",
      "Total number of states: 9\n",
      "Additionally defined swappable states: None\n",
      "Additional grompp arguments: None\n",
      "Additional runtime arguments: {'-nt': '1'}\n",
      "External modules for coordinate manipulation: None\n",
      "MDP parameters differing across replicas: None\n",
      "Alchemical ranges of each replica in REXEE:\n",
      "  - Replica 0: States [0, 1, 2, 3, 4, 5]\n",
      "  - Replica 1: States [1, 2, 3, 4, 5, 6]\n",
      "  - Replica 2: States [2, 3, 4, 5, 6, 7]\n",
      "  - Replica 3: States [3, 4, 5, 6, 7, 8]\n",
      "\n",
      "Iteration 0:  0.0 -  1.0 ps\n",
      "===========================\n",
      "Generating TPR files ...\n",
      "Running EXE simulations ...\n",
      "\n",
      "Below are the final states being visited:\n",
      "  Simulation 0: Global state 3\n",
      "  Simulation 1: Global state 3\n",
      "  Simulation 2: Global state 4\n",
      "  Simulation 3: Global state 3\n",
      "\n",
      "Parsing ./sim_0/iteration_0/md.log ...\n",
      "Parsing ./sim_1/iteration_0/md.log ...\n",
      "Parsing ./sim_2/iteration_0/md.log ...\n",
      "Parsing ./sim_3/iteration_0/md.log ...\n",
      "\n",
      "Swappable pairs: [(0, 1), (0, 2), (0, 3), (1, 2), (1, 3), (2, 3)]\n",
      "\n",
      "Proposed swap: (1, 3)\n",
      "  Proposing a move from (x^i_m, x^j_n) to (x^i_n, x^j_m) ...\n",
      "  U^i_n - U^i_m = 0.00 kT, U^j_m - U^j_n = 0.00 kT, Total dU: 0.00 kT\n",
      "  Acceptance rate: 1.000 / Random number drawn: 0.836\n",
      "  Swap accepted! \n",
      "  Current list of configurations: [0, 3, 2, 1]\n",
      "\n",
      "Remaining swappable pairs: [(0, 2)]\n",
      "\n",
      "Proposed swap: (0, 2)\n",
      "  Proposing a move from (x^i_m, x^j_n) to (x^i_n, x^j_m) ...\n",
      "  U^i_n - U^i_m = 0.83 kT, U^j_m - U^j_n = 0.49 kT, Total dU: 1.32 kT\n",
      "  Acceptance rate: 0.268 / Random number drawn: 0.400\n",
      "  Swap rejected! \n",
      "  Current list of configurations: [0, 3, 2, 1]\n",
      "\n",
      "The finally adopted swap pattern: [0, 3, 2, 1]\n",
      "The list of configurations sampled in each replica in the next iteration: [0, 3, 2, 1]\n",
      "Note: No weight correction will be performed.\n",
      "Note: No weight combination will be performed.\n",
      "\n",
      "  The alchemical weights of all states: \n",
      "  [0.0, 1.613, 2.714, 3.409, 3.604, 4.785, 5.38, 3.298, 0.363]\n",
      "\n",
      "Iteration 1:  1.0 -  2.0 ps\n",
      "===========================\n",
      "Generating TPR files ...\n",
      "Running EXE simulations ...\n",
      "\n",
      "Below are the final states being visited:\n",
      "  Simulation 0: Global state 1\n",
      "  Simulation 1: Global state 1\n",
      "  Simulation 2: Global state 3\n",
      "  Simulation 3: Global state 6\n",
      "\n",
      "Parsing ./sim_0/iteration_1/md.log ...\n",
      "Parsing ./sim_1/iteration_1/md.log ...\n",
      "Parsing ./sim_2/iteration_1/md.log ...\n",
      "Parsing ./sim_3/iteration_1/md.log ...\n",
      "\n",
      "Swappable pairs: [(0, 1), (2, 3)]\n",
      "\n",
      "Proposed swap: (0, 1)\n",
      "  Proposing a move from (x^i_m, x^j_n) to (x^i_n, x^j_m) ...\n",
      "  U^i_n - U^i_m = 0.00 kT, U^j_m - U^j_n = 0.00 kT, Total dU: 0.00 kT\n",
      "  Acceptance rate: 1.000 / Random number drawn: 0.035\n",
      "  Swap accepted! \n",
      "  Current list of configurations: [3, 0, 2, 1]\n",
      "\n",
      "Remaining swappable pairs: [(2, 3)]\n",
      "\n",
      "Proposed swap: (2, 3)\n",
      "  Proposing a move from (x^i_m, x^j_n) to (x^i_n, x^j_m) ...\n",
      "  U^i_n - U^i_m = 1.59 kT, U^j_m - U^j_n = 81.59 kT, Total dU: 83.19 kT\n",
      "  Acceptance rate: 0.000 / Random number drawn: 0.912\n",
      "  Swap rejected! \n",
      "  Current list of configurations: [3, 0, 2, 1]\n",
      "\n",
      "The finally adopted swap pattern: [1, 0, 2, 3]\n",
      "The list of configurations sampled in each replica in the next iteration: [3, 0, 2, 1]\n",
      "Note: No weight correction will be performed.\n",
      "Note: No weight combination will be performed.\n",
      "\n",
      "  The alchemical weights of all states: \n",
      "  [0.0, 1.613, 2.714, 3.409, 3.604, 4.785, 5.38, 3.298, 0.363]\n",
      "\n",
      "Iteration 2:  2.0 -  3.0 ps\n",
      "===========================\n",
      "Generating TPR files ...\n",
      "Running EXE simulations ...\n",
      "\n",
      "Below are the final states being visited:\n",
      "  Simulation 0: Global state 0\n",
      "  Simulation 1: Global state 3\n",
      "  Simulation 2: Global state 3\n",
      "  Simulation 3: Global state 4\n",
      "\n",
      "Parsing ./sim_0/iteration_2/md.log ...\n",
      "Parsing ./sim_1/iteration_2/md.log ...\n",
      "Parsing ./sim_2/iteration_2/md.log ...\n",
      "Parsing ./sim_3/iteration_2/md.log ...\n",
      "\n",
      "Swappable pairs: [(1, 2), (1, 3), (2, 3)]\n",
      "\n",
      "Proposed swap: (2, 3)\n",
      "  Proposing a move from (x^i_m, x^j_n) to (x^i_n, x^j_m) ...\n",
      "  U^i_n - U^i_m = 1.02 kT, U^j_m - U^j_n = -0.21 kT, Total dU: 0.81 kT\n",
      "  Acceptance rate: 0.445 / Random number drawn: 0.504\n",
      "  Swap rejected! \n",
      "  Current list of configurations: [3, 0, 2, 1]\n",
      "\n",
      "Remaining swappable pairs: []\n",
      "\n",
      "The finally adopted swap pattern: [0, 1, 2, 3]\n",
      "The list of configurations sampled in each replica in the next iteration: [3, 0, 2, 1]\n",
      "Note: No weight correction will be performed.\n",
      "Note: No weight combination will be performed.\n",
      "\n",
      "  The alchemical weights of all states: \n",
      "  [0.0, 1.613, 2.714, 3.409, 3.604, 4.785, 5.38, 3.298, 0.363]\n",
      "\n",
      "Iteration 3:  3.0 -  4.0 ps\n",
      "===========================\n",
      "Generating TPR files ...\n",
      "Running EXE simulations ...\n",
      "\n",
      "Below are the final states being visited:\n",
      "  Simulation 0: Global state 2\n",
      "  Simulation 1: Global state 3\n",
      "  Simulation 2: Global state 4\n",
      "  Simulation 3: Global state 6\n",
      "\n",
      "Parsing ./sim_0/iteration_3/md.log ...\n",
      "Parsing ./sim_1/iteration_3/md.log ...\n",
      "Parsing ./sim_2/iteration_3/md.log ...\n",
      "Parsing ./sim_3/iteration_3/md.log ...\n",
      "\n",
      "Swappable pairs: [(0, 1), (0, 2), (1, 2), (1, 3), (2, 3)]\n",
      "\n",
      "Proposed swap: (0, 2)\n",
      "  Proposing a move from (x^i_m, x^j_n) to (x^i_n, x^j_m) ...\n",
      "  U^i_n - U^i_m = 3.73 kT, U^j_m - U^j_n = -0.86 kT, Total dU: 2.87 kT\n",
      "  Acceptance rate: 0.057 / Random number drawn: 0.303\n",
      "  Swap rejected! \n",
      "  Current list of configurations: [3, 0, 2, 1]\n",
      "\n",
      "Remaining swappable pairs: [(1, 3)]\n",
      "\n",
      "Proposed swap: (1, 3)\n",
      "  Proposing a move from (x^i_m, x^j_n) to (x^i_n, x^j_m) ...\n",
      "  U^i_n - U^i_m = 5.78 kT, U^j_m - U^j_n = 2.10 kT, Total dU: 7.88 kT\n",
      "  Acceptance rate: 0.000 / Random number drawn: 0.135\n",
      "  Swap rejected! \n",
      "  Current list of configurations: [3, 0, 2, 1]\n",
      "\n",
      "The finally adopted swap pattern: [0, 1, 2, 3]\n",
      "The list of configurations sampled in each replica in the next iteration: [3, 0, 2, 1]\n",
      "Note: No weight correction will be performed.\n",
      "Note: No weight combination will be performed.\n",
      "\n",
      "  The alchemical weights of all states: \n",
      "  [0.0, 1.613, 2.714, 3.409, 3.604, 4.785, 5.38, 3.298, 0.363]\n",
      "\n",
      "Iteration 4:  4.0 -  5.0 ps\n",
      "===========================\n",
      "Generating TPR files ...\n",
      "Running EXE simulations ...\n",
      "\n",
      "Summary of the simulation ensemble\n",
      "==================================\n",
      "Simulation status:\n",
      "- Rep 0: The weights were fixed throughout the simulation.\n",
      "- Rep 1: The weights were fixed throughout the simulation.\n",
      "- Rep 2: The weights were fixed throughout the simulation.\n",
      "- Rep 3: The weights were fixed throughout the simulation.\n",
      "\n",
      "0 out of 5, or 0.0% iterations had an empty list of swappable pairs.\n",
      "5 out of 7, or 71.4% of attempted exchanges were rejected.\n",
      "\n",
      "Time elapsed: 2 minute(s) 47 second(s)\n"
     ]
    }
   ],
   "source": [
    "!mpirun -np 4 run_REXEE"
   ]
  },
  {
   "cell_type": "markdown",
   "id": "4e84140f",
   "metadata": {},
   "source": [
    "As shown above, the CLI `run_REXEE` printed information about the simulation on-the-fly, including the number of iterations completed, information about the current iteration, whether a swap was accepted or not, etc. At the end, a summary of the simulation was printed. All such information is saved in `run_REXEE_log.txt`. Below we list the files in the current directory and print the directory structure to see what outputs have been generated by the simulation:"
   ]
  },
  {
   "cell_type": "code",
   "execution_count": 9,
   "id": "1933d59a-627d-41dd-85f9-ad0e4734a54b",
   "metadata": {},
   "outputs": [
    {
     "name": "stdout",
     "output_type": "stream",
     "text": [
      "expanded.mdp  rep_trajs.npy\t sim_0\tsim_2  standard_REXEE.ipynb  sys.top\n",
      "params.yaml   run_REXEE_log.txt  sim_1\tsim_3  sys.gro\n"
     ]
    }
   ],
   "source": [
    "!ls"
   ]
  },
  {
   "cell_type": "code",
   "execution_count": 10,
   "id": "dc019089-7351-4db2-92ba-b8b19fd59dd6",
   "metadata": {},
   "outputs": [
    {
     "name": "stdout",
     "output_type": "stream",
     "text": [
      "\u001b[01;34msim_0\u001b[0m\n",
      "├── \u001b[01;34miteration_0\u001b[0m\n",
      "│   ├── \u001b[00mconfout.gro\u001b[0m\n",
      "│   ├── \u001b[00mdhdl.xvg\u001b[0m\n",
      "│   ├── \u001b[00mener.edr\u001b[0m\n",
      "│   ├── \u001b[00mexpanded.mdp\u001b[0m\n",
      "│   ├── \u001b[00mmd.log\u001b[0m\n",
      "│   ├── \u001b[00mmdout.mdp\u001b[0m\n",
      "│   ├── \u001b[00msys_EE.tpr\u001b[0m\n",
      "│   └── \u001b[00mtraj_comp.xtc\u001b[0m\n",
      "├── \u001b[01;34miteration_1\u001b[0m\n",
      "│   ├── \u001b[00mconfout.gro\u001b[0m\n",
      "│   ├── \u001b[00mdhdl.xvg\u001b[0m\n",
      "│   ├── \u001b[00mener.edr\u001b[0m\n",
      "│   ├── \u001b[00mexpanded.mdp\u001b[0m\n",
      "│   ├── \u001b[00mmd.log\u001b[0m\n",
      "│   ├── \u001b[00mmdout.mdp\u001b[0m\n",
      "│   ├── \u001b[00msys_EE.tpr\u001b[0m\n",
      "│   └── \u001b[00mtraj_comp.xtc\u001b[0m\n",
      "├── \u001b[01;34miteration_2\u001b[0m\n",
      "│   ├── \u001b[00mconfout.gro\u001b[0m\n",
      "│   ├── \u001b[00mdhdl.xvg\u001b[0m\n",
      "│   ├── \u001b[00mener.edr\u001b[0m\n",
      "│   ├── \u001b[00mexpanded.mdp\u001b[0m\n",
      "│   ├── \u001b[00mmd.log\u001b[0m\n",
      "│   ├── \u001b[00mmdout.mdp\u001b[0m\n",
      "│   ├── \u001b[00msys_EE.tpr\u001b[0m\n",
      "│   └── \u001b[00mtraj_comp.xtc\u001b[0m\n",
      "├── \u001b[01;34miteration_3\u001b[0m\n",
      "│   ├── \u001b[00mconfout.gro\u001b[0m\n",
      "│   ├── \u001b[00mdhdl.xvg\u001b[0m\n",
      "│   ├── \u001b[00mener.edr\u001b[0m\n",
      "│   ├── \u001b[00mexpanded.mdp\u001b[0m\n",
      "│   ├── \u001b[00mmd.log\u001b[0m\n",
      "│   ├── \u001b[00mmdout.mdp\u001b[0m\n",
      "│   ├── \u001b[00msys_EE.tpr\u001b[0m\n",
      "│   └── \u001b[00mtraj_comp.xtc\u001b[0m\n",
      "└── \u001b[01;34miteration_4\u001b[0m\n",
      "    ├── \u001b[00mconfout.gro\u001b[0m\n",
      "    ├── \u001b[00mdhdl.xvg\u001b[0m\n",
      "    ├── \u001b[00mener.edr\u001b[0m\n",
      "    ├── \u001b[00mexpanded.mdp\u001b[0m\n",
      "    ├── \u001b[00mmd.log\u001b[0m\n",
      "    ├── \u001b[00mmdout.mdp\u001b[0m\n",
      "    ├── \u001b[00msys_EE.tpr\u001b[0m\n",
      "    └── \u001b[00mtraj_comp.xtc\u001b[0m\n",
      "\n",
      "6 directories, 40 files\n"
     ]
    }
   ],
   "source": [
    "!tree sim_0"
   ]
  },
  {
   "cell_type": "markdown",
   "id": "7ea7981e-69a7-4e77-bf63-0e2362222f50",
   "metadata": {},
   "source": [
    "As shown above, the following files/directories have been generated:\n",
    "- Folders `sim_*`, each of which corresponds to a replica in the REXEE simulation and contains subfolders `iteration_*`, where simulation outputs of each iteration reside.\n",
    "- `rep_trajs.npy`, which contains replica-space trajectories for all replicas and is used as an input checkpoint file when simulation extension is desired. To extend a REXEE simulation, one only needs to input `rep_trajs.npy` via the `-c` flag of `run_REXEE`.\n",
    "- `run_REXEE_log.txt`, a log file as mentioned above.\n",
    "\n",
    "Notably, if a weight-updating REXEE simulation is performed, `g_vecs.npy` will be generated, which contains the times series of alchemical weights for all replicas."
   ]
  },
  {
   "cell_type": "markdown",
   "id": "3ebdb692",
   "metadata": {},
   "source": [
    "## 3. Analyzing a REXEE simulation"
   ]
  },
  {
   "cell_type": "markdown",
   "id": "d593175c",
   "metadata": {},
   "source": [
    "After the simulation is completed, we are ready to analyze the simulation to assess its sampling behaviors and estimate the solvation free energy of the molecule. Since the simulation we performed in the previous section is very short and was just for demonstration purposes, instead of using the simulation outputs above, we will unzip `example_outputs.zip` and analyze the example outputs, using the CLI `analyze_REXEE`.\n",
    "\n",
    "To set up an example for analyzing a REXEE simulation, we first delete the simulation outputs generated by the previous section, and unzip `example_outputs.zip`."
   ]
  },
  {
   "cell_type": "code",
   "execution_count": null,
   "id": "4fcc0864",
   "metadata": {},
   "outputs": [],
   "source": [
    "# remove the files and unzip example_output.zip here."
   ]
  },
  {
   "cell_type": "markdown",
   "id": "450515cb",
   "metadata": {},
   "source": [
    "Importantly, the CLI `analyze_REXEE` also requires an input YAML file, which can be the same as the one used for `run_REXEE`, since these two CLIs only consider their own relevant parameters. Regardless of the settings in the input YAML file, the CLI `analyze_REXEE` will perform the following analyses. (For more information, please check the [API documentation](https://ensemble-md.readthedocs.io/en/latest/api/api_analysis.html) of the relevant functionalities, or the [source code](https://github.com/wehs7661/ensemble_md/blob/master/ensemble_md/cli/analyze_REXEE.py) of the CLI `analyze_REXEE`.)\n",
    "\n",
    "- Read in and plot replica-space trajectories (using `ensemble_md.analyze_traj.plot_rep_trajs`)\n",
    "- Calculate and plot the replica-space transition matrix (using `ensemble_md.analyze_traj.tarj2transmtx` and `ensemble_md.analyze_matrix.plot_matrix`)\n",
    "- Calculate the spectral gap for the replica-space transition matrix (using `ensemble_md.analyze_matrix.calc_spectral_gap`) \n",
    "- Recover all configurationally continuous trajectories in the state space (using `ensemble_md.analyze_traj.stitch_time_series`)\n",
    "- Plot the state-space time series for different continuous trajectories (using `ensemble_md.analyze_traj.plot_state_trajs`)\n",
    "- Plot the histograms of state index for different continuous trajectories (using `ensemble_md.analyze_traj.plot_state_hist`)\n",
    "- Stitch the time series of state index for different sets of states (using `ensemble_md.analyze_traj.stitch_time_series_for_sim`)\n",
    "- Plot the time series of state index for different sets of states (using `ensemble_md.analyze_traj.plot_state_trajs`)\n",
    "- Plot the histograms of state index for different sets of states (using `ensemble_md.analyze_traj.plot_state_hist`)\n",
    "- Plot the overall state-space transition matrices for different continuous trajectories (using `ensemble_md.analyze_traj.traj2transmtx` and `ensemble_md.analyze_matrix.plot_matrix`)\n",
    "- For each continuous trajectory, calculate the state-space spectral gap (using `ensemble_md.analyze_matrix.calc_spectral_gap`)\n",
    "- For each continuous trajectory, calculate the state-space stationary distribution (using `ensemble_md.analyze_matrix.calc_equil_prob`)\n",
    "- Calculate the state index correlation time for each continuous trajectory (using `pymbar.timeries.statistical_inefficiency`)\n",
    "- Calculate transit times for each continuous trajectory (using `ensemble_md.analyze_traj.plot_transit_time`)\n",
    "\n",
    "Additionally, MSM analysis and free energy calculations can be performed if parameters `msm` and `free_energy` are set to `True`, respectively. \n",
    "\n",
    "\n",
    "As shown above, we did set `free_energy` to `True` in `params.yaml` (with all other data analysis parameters adopting their default values), so free energy calculations will be performed when the CLI `analyze_REXEE` is used. \n",
    "\n",
    "Now, to perform data analysis for the example outputs, simply execute the command below. Note that the CLI `analyze_REXEE` does not support parallelism and here we are using default values for all the flags. For more information about the flags, please run `analyze_REXEE -h`/`analyze_REXEE --help` and read the help message."
   ]
  },
  {
   "cell_type": "code",
   "execution_count": 11,
   "id": "3d42ba39-bf01-4256-9cf3-81b09d7b2541",
   "metadata": {},
   "outputs": [
    {
     "name": "stdout",
     "output_type": "stream",
     "text": [
      "Warning on use of the timeseries module: If the inherent timescales of the system are long compared to those being analyzed, this statistical inefficiency may be an underestimate.  The estimate presumes the use of many statistically independent samples.  Tests should be performed to assess whether this condition is satisfied.   Be cautious in the interpretation of the data.\n",
      "\n",
      "********* JAX NOT FOUND *********\n",
      " PyMBAR can run faster with JAX  \n",
      " But will work fine without it   \n",
      "Either install with pip or conda:\n",
      "      pip install pybar[jax]     \n",
      "               OR                \n",
      "      conda install pymbar       \n",
      "*********************************\n",
      "Current time: 29/07/2024 18:54:28\n",
      "Command line: /srv/conda/envs/notebook/bin/analyze_REXEE\n",
      "Important parameters of REXEE\n",
      "=============================\n",
      "Python version: 3.10.14 | packaged by conda-forge | (main, Mar 20 2024, 12:45:18) [GCC 12.3.0]\n",
      "GROMACS executable: /srv/conda/envs/notebook/bin.AVX2_256/gmx\n",
      "GROMACS version: 2023.3-conda_forge\n",
      "ensemble_md version: 0.9.0+159.g813e06f.dirty\n",
      "Simulation inputs: sys.gro, sys.top, expanded.mdp\n",
      "Verbose log file: True\n",
      "Proposal scheme: exhaustive\n",
      "Whether to perform weight combination: False\n",
      "Type of means for weight combination: simple\n",
      "Whether to perform histogram correction: False\n",
      "Histogram cutoff for weight correction: -1\n",
      "Number of replicas: 4\n",
      "Number of iterations: 5\n",
      "Length of each replica: 1.0 ps\n",
      "Frequency for checkpointing: 100 iterations\n",
      "Total number of states: 9\n",
      "Additionally defined swappable states: None\n",
      "Additional grompp arguments: None\n",
      "Additional runtime arguments: {'-nt': '1'}\n",
      "External modules for coordinate manipulation: None\n",
      "MDP parameters differing across replicas: None\n",
      "Alchemical ranges of each replica in REXEE:\n",
      "  - Replica 0: States [0, 1, 2, 3, 4, 5]\n",
      "  - Replica 1: States [1, 2, 3, 4, 5, 6]\n",
      "  - Replica 2: States [2, 3, 4, 5, 6, 7]\n",
      "  - Replica 3: States [3, 4, 5, 6, 7, 8]\n",
      "\n",
      "Whether to build Markov state models and perform relevant analysis: False\n",
      "Whether to perform free energy calculations: True\n",
      "The step to used in subsampling the DHDL data in free energy calculations, if any: 1\n",
      "The chosen free energy estimator for free energy calculations, if any: MBAR\n",
      "The method for estimating the uncertainty of free energies in free energy calculations, if any: propagate\n",
      "The number of bootstrap iterations in the boostrapping method, if used: 50\n",
      "The random seed to use in bootstrapping, if used: None\n",
      "\n",
      "Data analysis of the simulation ensemble\n",
      "========================================\n",
      "[ Section 1. Analysis based on transitions between alchemical ranges ]\n",
      "1-0. Reading in the replica-space trajectory ...\n",
      "1-1. Plotting transitions between alchemical ranges ...\n",
      "1-2. Plotting the replica-space transition matrix (considering all continuous trajectories) ...\n",
      "1-3. Calculating the spectral gap of the replica-space transition matrix ...\n",
      "Traceback (most recent call last):\n",
      "  File \"/srv/conda/envs/notebook/bin/analyze_REXEE\", line 33, in <module>\n",
      "    sys.exit(load_entry_point('ensemble-md', 'console_scripts', 'analyze_REXEE')())\n",
      "  File \"/home/jovyan/ensemble_md/cli/analyze_REXEE.py\", line 145, in main\n",
      "    spectral_gap, eig_vals = analyze_matrix.calc_spectral_gap(reps_mtx)\n",
      "ValueError: too many values to unpack (expected 2)\n"
     ]
    }
   ],
   "source": [
    "!mpirun -np 1 analyze_REXEE"
   ]
  },
  {
   "cell_type": "markdown",
   "id": "a288cca1",
   "metadata": {},
   "source": [
    "As shown above, all data analysis results were not only printed on the fly to the screen, but also printed to the file `analyze_REXEE_log.txt`. \n",
    "\n",
    "Now, as the execution of the command `analyze_REXEE` has been completed, let's take a look and the data analysis results saved in the newly created folder `analysis`. "
   ]
  },
  {
   "cell_type": "code",
   "execution_count": 12,
   "id": "b5dacf9e-ccde-4416-b8d4-81936198e185",
   "metadata": {},
   "outputs": [
    {
     "name": "stdout",
     "output_type": "stream",
     "text": [
      "rep_trajs.png  rep_transmtx_allconfigs.png\n"
     ]
    }
   ],
   "source": [
    "!ls analysis"
   ]
  },
  {
   "cell_type": "code",
   "execution_count": null,
   "id": "2e6fd744-0476-424a-862f-0d42dca1ee31",
   "metadata": {},
   "outputs": [],
   "source": []
  }
 ],
 "metadata": {
  "kernelspec": {
   "display_name": "Python 3 (ipykernel)",
   "language": "python",
   "name": "python3"
  },
  "language_info": {
   "codemirror_mode": {
    "name": "ipython",
    "version": 3
   },
   "file_extension": ".py",
   "mimetype": "text/x-python",
   "name": "python",
   "nbconvert_exporter": "python",
   "pygments_lexer": "ipython3",
   "version": "3.10.14"
  }
 },
 "nbformat": 4,
 "nbformat_minor": 5
}
