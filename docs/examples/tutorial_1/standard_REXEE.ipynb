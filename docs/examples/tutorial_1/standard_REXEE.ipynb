{
 "cells": [
  {
   "cell_type": "markdown",
   "id": "87324540",
   "metadata": {},
   "source": [
    "# Tutorial 1: Standard REXEE simulations"
   ]
  },
  {
   "cell_type": "markdown",
   "id": "48c42ec7",
   "metadata": {},
   "source": [
    "[![Binder](https://mybinder.org/badge_logo.svg)](https://mybinder.org/v2/gh/wehs7661/ensemble_md/c0f6d48ce3fe746e349e4a4a9610f935cca8b0b5?urlpath=lab%2Ftree%2Fdocs%2Fexamples%2Ftutorial_1%2Frun_REXEE.ipynb)\n",
    "\n",
    "In this tutorial, we will demonstrate how one can use different command-line interfaces (CLIs) implemented in the Python package `ensemble_md` to prepare, perform, and analyze a fixed-weight REXEE simulation to estimate the solvation free energy of a toy molecule composed of 4 interaction sites. For a more comprehensive understanding, we strongly recommend reading our [documentation](https://ensemble-md.readthedocs.io/en/latest/simulations.html) on launching REXEE simulations before starting this tutorial. With MPI (`mpirun` or `mpiexec`), GROMACS and `ensemble_md` all installed, you should be able to run this tutorial either locally or on a HPC cluster, as long as you have at least four CPU cores. Alternatively, you can click the badge above to run this tutorial on Binder without installing anything. Notably, this tutorial assumes that you understand the basics of the expanded ensemble method and relevant simulation parameters in GROMACS. If not, we recommend reading the [GROMACS documentation]() and/or [this tutorial](). "
   ]
  },
  {
   "cell_type": "markdown",
   "id": "451681c9",
   "metadata": {},
   "source": [
    "## 1. Preparing simulation inputs for a REXEE simulation"
   ]
  },
  {
   "cell_type": "markdown",
   "id": "7f1068a4",
   "metadata": {},
   "source": [
    "As mentioned in our documentation, running a REXEE simulation at least requires the following four input files:\n",
    "\n",
    "- One YAML file that specifies REXEE parameters.\n",
    "- One GROMACS GRO file of the system of interst.\n",
    "- One GROMACS TOP file of the system of interst.\n",
    "- One GROMACS MDP template for customizing MDP files for different replicas during the simulation.\n",
    "\n",
    "In the folder where this tutorial resides (`docs/examples/tutoria_1` in the repository), you should find all these necessary input files, `params.yaml`, `sys.gro`, `sys.top`, and `expanded.mdp`."
   ]
  },
  {
   "cell_type": "code",
   "execution_count": 1,
   "id": "190945e2",
   "metadata": {},
   "outputs": [
    {
     "name": "stdout",
     "output_type": "stream",
     "text": [
      "expanded.mdp    params.yaml     run_REXEE.ipynb sys.gro         sys.top\n"
     ]
    }
   ],
   "source": [
    "!ls"
   ]
  },
  {
   "cell_type": "markdown",
   "id": "389df378",
   "metadata": {},
   "source": [
    "While you could use multiple GRO and TOP files, one for each replica in a REXEE simulation, in this tutorial, we will use the same GRO and TOP files for all replicas to keep the demonstration straightforward. As for the MDP template `expanded.mdp`, it can be inspected that it adopts common/typical settings for a fixed-weight EE simulation, with 9 alchemical intermediate states defined to decouple van der Waals interactions and coulombic interactions. During the REXEE simulation, customized MDP files will be generated for different replicas such that the MDP file for each replica only consider the set of states that the replica is constrained to. Notably, the weights specified via the parameter `init_lambda_weights` were obtained from a weight-updating EE simulation. If you would like to run a weight-updating REXEE simulation, simply use an MDP file for running a weight-updating EE simulation, i.e., and MDP file without `init_lambda_weights` being specified, and with options such as `wl_scale`, `wl_ratio`, `init_wl_delta`, `lmc_stats`, `lmc_weights_equil`, `weight_equil_wl_delta` specified.\n",
    "\n",
    "\n",
    "Now, with these three GROMACS inputs prepared, let's briefly review the input YAML file that specifies REXEE parameters."
   ]
  },
  {
   "cell_type": "code",
   "execution_count": 1,
   "id": "6732a2d8",
   "metadata": {},
   "outputs": [
    {
     "name": "stdout",
     "output_type": "stream",
     "text": [
      "# User-defined parameters\n",
      "gmx_executable: 'gmx'               \n",
      "gro: sys.gro\n",
      "top: sys.top\n",
      "mdp: expanded.mdp             \n",
      "n_sim: 4\n",
      "n_iter: 5         \n",
      "s: 1                         \n",
      "nst_sim: 500\n",
      "runtime_args: {'-nt': '1', '-ntmpi': '1'}\n"
     ]
    }
   ],
   "source": [
    "!cat params.yaml"
   ]
  },
  {
   "cell_type": "markdown",
   "id": "c2bff331",
   "metadata": {},
   "source": [
    "As shown above, this YAML file only specifies the required REXEE parameters and adopts default values for all optional parameters, execpt that `runtime_args` is specified to run each EE replica using one thread (`-nt 1`) so that it would not take too long to complete the simulation. In our case here, we will run our a REXEE simulation composed of 4 replicas, with each replica performed with one thread (`-nt 1`). With the total number of states as 9 and a state shift of 1, this means that replicas 0, 1, 2, 3 are constrained to sampling states 0-5, 1-6, 2-7, and 3-8, respectively. The simulation will attempt to swap coordinates between replicas every 500 integration steps, and perform 5 iterations in total. (Note that generally we need a much larger number of iterations. Here we use a very small value just for demosntration purposes.) \n",
    "\n",
    "If you are interested in trying out other numbers of replicas or state shifts given 9 alchemical intermediate states, you can use the CLI `explore_REXEE` to enumerate all possible REXEE configurations."
   ]
  },
  {
   "cell_type": "code",
   "execution_count": 2,
   "id": "9cd09a1a",
   "metadata": {},
   "outputs": [
    {
     "name": "stdout",
     "output_type": "stream",
     "text": [
      "Exploration of the REXEE parameter space\n",
      "=======================================\n",
      "[ REXEE parameters of interest ]\n",
      "- N: The total number of states\n",
      "- r: The number of replicas\n",
      "- n: The number of states for each replica\n",
      "- s: The state shift between adjacent replicas\n",
      "\n",
      "[ Solutions ]\n",
      "- Solution 1: (N, r, n, s) = (9, 2, 5, 4)\n",
      "  - Replica 0: [0, 1, 2, 3, 4]\n",
      "  - Replica 1: [4, 5, 6, 7, 8]\n",
      "\n",
      "- Solution 2: (N, r, n, s) = (9, 2, 6, 3)\n",
      "  - Replica 0: [0, 1, 2, 3, 4, 5]\n",
      "  - Replica 1: [3, 4, 5, 6, 7, 8]\n",
      "\n",
      "- Solution 3: (N, r, n, s) = (9, 2, 7, 2)\n",
      "  - Replica 0: [0, 1, 2, 3, 4, 5, 6]\n",
      "  - Replica 1: [2, 3, 4, 5, 6, 7, 8]\n",
      "\n",
      "- Solution 4: (N, r, n, s) = (9, 2, 8, 1)\n",
      "  - Replica 0: [0, 1, 2, 3, 4, 5, 6, 7]\n",
      "  - Replica 1: [1, 2, 3, 4, 5, 6, 7, 8]\n",
      "\n",
      "- Solution 5: (N, r, n, s) = (9, 3, 5, 2)\n",
      "  - Replica 0: [0, 1, 2, 3, 4]\n",
      "  - Replica 1: [2, 3, 4, 5, 6]\n",
      "  - Replica 2: [4, 5, 6, 7, 8]\n",
      "\n",
      "- Solution 6: (N, r, n, s) = (9, 3, 7, 1)\n",
      "  - Replica 0: [0, 1, 2, 3, 4, 5, 6]\n",
      "  - Replica 1: [1, 2, 3, 4, 5, 6, 7]\n",
      "  - Replica 2: [2, 3, 4, 5, 6, 7, 8]\n",
      "\n",
      "- Solution 7: (N, r, n, s) = (9, 4, 3, 2)\n",
      "  - Replica 0: [0, 1, 2]\n",
      "  - Replica 1: [2, 3, 4]\n",
      "  - Replica 2: [4, 5, 6]\n",
      "  - Replica 3: [6, 7, 8]\n",
      "\n",
      "- Solution 8: (N, r, n, s) = (9, 4, 6, 1)\n",
      "  - Replica 0: [0, 1, 2, 3, 4, 5]\n",
      "  - Replica 1: [1, 2, 3, 4, 5, 6]\n",
      "  - Replica 2: [2, 3, 4, 5, 6, 7]\n",
      "  - Replica 3: [3, 4, 5, 6, 7, 8]\n",
      "\n",
      "- Solution 9: (N, r, n, s) = (9, 5, 5, 1)\n",
      "  - Replica 0: [0, 1, 2, 3, 4]\n",
      "  - Replica 1: [1, 2, 3, 4, 5]\n",
      "  - Replica 2: [2, 3, 4, 5, 6]\n",
      "  - Replica 3: [3, 4, 5, 6, 7]\n",
      "  - Replica 4: [4, 5, 6, 7, 8]\n",
      "\n",
      "- Solution 10: (N, r, n, s) = (9, 6, 4, 1)\n",
      "  - Replica 0: [0, 1, 2, 3]\n",
      "  - Replica 1: [1, 2, 3, 4]\n",
      "  - Replica 2: [2, 3, 4, 5]\n",
      "  - Replica 3: [3, 4, 5, 6]\n",
      "  - Replica 4: [4, 5, 6, 7]\n",
      "  - Replica 5: [5, 6, 7, 8]\n",
      "\n",
      "- Solution 11: (N, r, n, s) = (9, 7, 3, 1)\n",
      "  - Replica 0: [0, 1, 2]\n",
      "  - Replica 1: [1, 2, 3]\n",
      "  - Replica 2: [2, 3, 4]\n",
      "  - Replica 3: [3, 4, 5]\n",
      "  - Replica 4: [4, 5, 6]\n",
      "  - Replica 5: [5, 6, 7]\n",
      "  - Replica 6: [6, 7, 8]\n",
      "\n",
      "- Solution 12: (N, r, n, s) = (9, 8, 2, 1)\n",
      "  - Replica 0: [0, 1]\n",
      "  - Replica 1: [1, 2]\n",
      "  - Replica 2: [2, 3]\n",
      "  - Replica 3: [3, 4]\n",
      "  - Replica 4: [4, 5]\n",
      "  - Replica 5: [5, 6]\n",
      "  - Replica 6: [6, 7]\n",
      "  - Replica 7: [7, 8]\n",
      "\n"
     ]
    }
   ],
   "source": [
    "!explore_REXEE -N 9"
   ]
  },
  {
   "cell_type": "markdown",
   "id": "f2069dec",
   "metadata": {},
   "source": [
    "If you want to list all possible configurations that use 4 replicas for sampling 9 alchemical states, you can further specify the number of replicas via the flag `-r`:"
   ]
  },
  {
   "cell_type": "code",
   "execution_count": 2,
   "id": "b6a2859c",
   "metadata": {},
   "outputs": [
    {
     "name": "stdout",
     "output_type": "stream",
     "text": [
      "Exploration of the REXEE parameter space\n",
      "=======================================\n",
      "[ REXEE parameters of interest ]\n",
      "- N: The total number of states\n",
      "- r: The number of replicas\n",
      "- n: The number of states for each replica\n",
      "- s: The state shift between adjacent replicas\n",
      "\n",
      "[ Solutions ]\n",
      "- Solution 1: (N, r, n, s) = (9, 4, 3, 2)\n",
      "  - Replica 0: [0, 1, 2]\n",
      "  - Replica 1: [2, 3, 4]\n",
      "  - Replica 2: [4, 5, 6]\n",
      "  - Replica 3: [6, 7, 8]\n",
      "\n",
      "- Solution 2: (N, r, n, s) = (9, 4, 6, 1)\n",
      "  - Replica 0: [0, 1, 2, 3, 4, 5]\n",
      "  - Replica 1: [1, 2, 3, 4, 5, 6]\n",
      "  - Replica 2: [2, 3, 4, 5, 6, 7]\n",
      "  - Replica 3: [3, 4, 5, 6, 7, 8]\n",
      "\n"
     ]
    }
   ],
   "source": [
    "!explore_REXEE -N 9 -r 4"
   ]
  },
  {
   "cell_type": "markdown",
   "id": "3731c625",
   "metadata": {},
   "source": [
    "For rules of thumb about specifying the configurational parameters (including the number of states, number of replicas, state shift and swapping frequency), please refer to the [documentation]()."
   ]
  },
  {
   "cell_type": "markdown",
   "id": "6cedf8d9",
   "metadata": {},
   "source": [
    "## 2. Performing a REXEE simulation\n",
    "With the input files above, we can now run the REXEE simulation using the CLI `run_REXEE` withthe following command:"
   ]
  },
  {
   "cell_type": "code",
   "execution_count": 5,
   "id": "443dd9af",
   "metadata": {},
   "outputs": [
    {
     "name": "stdout",
     "output_type": "stream",
     "text": [
      "Current time: 17/05/2024 14:30:29\n",
      "Command line: /Users/Wei-TseHsu/miniconda3/bin/run_REXEE\n",
      "\n",
      "Important parameters of REXEE\n",
      "=============================\n",
      "Python version: 3.8.12 | packaged by conda-forge | (default, Jan 30 2022, 23:36:06) \n",
      "[Clang 11.1.0 ]\n",
      "GROMACS executable: /usr/local/bin/gmx\n",
      "GROMACS version: 2022.3-dev-20230426-4eabaf582b\n",
      "ensemble_md version: 0.9.0+140.gc0f6d48.dirty\n",
      "Simulation inputs: sys.gro, sys.top, expanded.mdp\n",
      "Verbose log file: True\n",
      "Proposal scheme: exhaustive\n",
      "Whether to perform weight combination: False\n",
      "Type of means for weight combination: simple\n",
      "Whether to perform histogram correction: False\n",
      "Histogram cutoff for weight correction: -1\n",
      "Number of replicas: 4\n",
      "Number of iterations: 5\n",
      "Length of each replica: 1.0 ps\n",
      "Frequency for checkpointing: 100 iterations\n",
      "Total number of states: 9\n",
      "Additionally defined swappable states: None\n",
      "Additional grompp arguments: None\n",
      "Additional runtime arguments: {'-nt': '1', '-ntmpi': '1'}\n",
      "External modules for coordinate manipulation: None\n",
      "MDP parameters differing across replicas: None\n",
      "Alchemical ranges of each replica in REXEE:\n",
      "  - Replica 0: States [0, 1, 2, 3, 4, 5]\n",
      "  - Replica 1: States [1, 2, 3, 4, 5, 6]\n",
      "  - Replica 2: States [2, 3, 4, 5, 6, 7]\n",
      "  - Replica 3: States [3, 4, 5, 6, 7, 8]\n",
      "\n",
      "Iteration 0:  0.0 -  1.0 ps\n",
      "===========================\n",
      "Generating TPR files ...\n",
      "Running EXE simulations ...\n",
      "\n",
      "Below are the final states being visited:\n",
      "  Simulation 0: Global state 0\n",
      "  Simulation 1: Global state 2\n",
      "  Simulation 2: Global state 3\n",
      "  Simulation 3: Global state 6\n",
      "\n",
      "Parsing ./sim_0/iteration_0/md.log ...\n",
      "Parsing ./sim_1/iteration_0/md.log ...\n",
      "Parsing ./sim_2/iteration_0/md.log ...\n",
      "Parsing ./sim_3/iteration_0/md.log ...\n",
      "\n",
      "Swappable pairs: [(1, 2), (2, 3)]\n",
      "\n",
      "Proposed swap: (2, 3)\n",
      "  Proposing a move from (x^i_m, x^j_n) to (x^i_n, x^j_m) ...\n",
      "  U^i_n - U^i_m = 4.62 kT, U^j_m - U^j_n = 0.81 kT, Total dU: 5.43 kT\n",
      "  Acceptance rate: 0.004 / Random number drawn: 0.003\n",
      "  Swap accepted! \n",
      "  Current list of configurations: [0, 1, 3, 2]\n",
      "\n",
      "Remaining swappable pairs: []\n",
      "\n",
      "The finally adopted swap pattern: [0, 1, 3, 2]\n",
      "The list of configurations sampled in each replica in the next iteration: [0, 1, 3, 2]\n",
      "Note: No weight correction will be performed.\n",
      "Note: No weight combination will be performed.\n",
      "\n",
      "  The alchemical weights of all states: \n",
      "  [0.0, 1.613, 2.714, 3.409, 3.604, 4.785, 5.38, 3.298, 0.363]\n",
      "\n",
      "Iteration 1:  1.0 -  2.0 ps\n",
      "===========================\n",
      "Generating TPR files ...\n",
      "Running EXE simulations ...\n",
      "\n",
      "Below are the final states being visited:\n",
      "  Simulation 0: Global state 3\n",
      "  Simulation 1: Global state 5\n",
      "  Simulation 2: Global state 6\n",
      "  Simulation 3: Global state 4\n",
      "\n",
      "Parsing ./sim_0/iteration_1/md.log ...\n",
      "Parsing ./sim_1/iteration_1/md.log ...\n",
      "Parsing ./sim_2/iteration_1/md.log ...\n",
      "Parsing ./sim_3/iteration_1/md.log ...\n",
      "\n",
      "Swappable pairs: [(0, 1), (0, 3), (1, 2), (1, 3), (2, 3)]\n",
      "\n",
      "Proposed swap: (2, 3)\n",
      "  Proposing a move from (x^i_m, x^j_n) to (x^i_n, x^j_m) ...\n",
      "  U^i_n - U^i_m = 4.19 kT, U^j_m - U^j_n = 5.74 kT, Total dU: 9.93 kT\n",
      "  Acceptance rate: 0.000 / Random number drawn: 0.319\n",
      "  Swap rejected! \n",
      "  Current list of configurations: [0, 1, 3, 2]\n",
      "\n",
      "Remaining swappable pairs: [(0, 1)]\n",
      "\n",
      "Proposed swap: (0, 1)\n",
      "  Proposing a move from (x^i_m, x^j_n) to (x^i_n, x^j_m) ...\n",
      "  U^i_n - U^i_m = 1.19 kT, U^j_m - U^j_n = 2.01 kT, Total dU: 3.20 kT\n",
      "  Acceptance rate: 0.041 / Random number drawn: 0.176\n",
      "  Swap rejected! \n",
      "  Current list of configurations: [0, 1, 3, 2]\n",
      "\n",
      "The finally adopted swap pattern: [0, 1, 2, 3]\n",
      "The list of configurations sampled in each replica in the next iteration: [0, 1, 3, 2]\n",
      "Note: No weight correction will be performed.\n",
      "Note: No weight combination will be performed.\n",
      "\n",
      "  The alchemical weights of all states: \n",
      "  [0.0, 1.613, 2.714, 3.409, 3.604, 4.785, 5.38, 3.298, 0.363]\n",
      "\n",
      "Iteration 2:  2.0 -  3.0 ps\n",
      "===========================\n",
      "Generating TPR files ...\n",
      "Running EXE simulations ...\n",
      "\n",
      "Below are the final states being visited:\n",
      "  Simulation 0: Global state 1\n",
      "  Simulation 1: Global state 6\n",
      "  Simulation 2: Global state 7\n",
      "  Simulation 3: Global state 3\n",
      "\n",
      "Parsing ./sim_0/iteration_2/md.log ...\n",
      "Parsing ./sim_1/iteration_2/md.log ...\n",
      "Parsing ./sim_2/iteration_2/md.log ...\n",
      "Parsing ./sim_3/iteration_2/md.log ...\n",
      "\n",
      "Swappable pairs: [(1, 3), (2, 3)]\n",
      "\n",
      "Proposed swap: (1, 3)\n",
      "  Proposing a move from (x^i_m, x^j_n) to (x^i_n, x^j_m) ...\n",
      "  U^i_n - U^i_m = 11.17 kT, U^j_m - U^j_n = 6.72 kT, Total dU: 17.90 kT\n",
      "  Acceptance rate: 0.000 / Random number drawn: 0.004\n",
      "  Swap rejected! \n",
      "  Current list of configurations: [0, 1, 3, 2]\n",
      "\n",
      "Remaining swappable pairs: []\n",
      "\n",
      "The finally adopted swap pattern: [0, 1, 2, 3]\n",
      "The list of configurations sampled in each replica in the next iteration: [0, 1, 3, 2]\n",
      "Note: No weight correction will be performed.\n",
      "Note: No weight combination will be performed.\n",
      "\n",
      "  The alchemical weights of all states: \n",
      "  [0.0, 1.613, 2.714, 3.409, 3.604, 4.785, 5.38, 3.298, 0.363]\n",
      "\n",
      "Iteration 3:  3.0 -  4.0 ps\n",
      "===========================\n",
      "Generating TPR files ...\n",
      "Running EXE simulations ...\n",
      "\n",
      "Below are the final states being visited:\n",
      "  Simulation 0: Global state 1\n",
      "  Simulation 1: Global state 5\n",
      "  Simulation 2: Global state 2\n",
      "  Simulation 3: Global state 3\n",
      "\n",
      "Parsing ./sim_0/iteration_3/md.log ...\n",
      "Parsing ./sim_1/iteration_3/md.log ...\n",
      "Parsing ./sim_2/iteration_3/md.log ...\n",
      "Parsing ./sim_3/iteration_3/md.log ...\n",
      "\n",
      "Swappable pairs: [(0, 1), (1, 2), (1, 3)]\n",
      "\n",
      "Proposed swap: (1, 2)\n",
      "  Proposing a move from (x^i_m, x^j_n) to (x^i_n, x^j_m) ...\n",
      "  U^i_n - U^i_m = -3.69 kT, U^j_m - U^j_n = 5.86 kT, Total dU: 2.17 kT\n",
      "  Acceptance rate: 0.114 / Random number drawn: 0.126\n",
      "  Swap rejected! \n",
      "  Current list of configurations: [0, 1, 3, 2]\n",
      "\n",
      "Remaining swappable pairs: []\n",
      "\n",
      "The finally adopted swap pattern: [0, 1, 2, 3]\n",
      "The list of configurations sampled in each replica in the next iteration: [0, 1, 3, 2]\n",
      "Note: No weight correction will be performed.\n",
      "Note: No weight combination will be performed.\n",
      "\n",
      "  The alchemical weights of all states: \n",
      "  [0.0, 1.613, 2.714, 3.409, 3.604, 4.785, 5.38, 3.298, 0.363]\n",
      "\n",
      "Iteration 4:  4.0 -  5.0 ps\n",
      "===========================\n",
      "Generating TPR files ...\n",
      "Running EXE simulations ...\n",
      "\n",
      "Summary of the simulation ensemble\n",
      "==================================\n",
      "Simulation status:\n",
      "- Rep 0: The weights were fixed throughout the simulation.\n",
      "- Rep 1: The weights were fixed throughout the simulation.\n",
      "- Rep 2: The weights were fixed throughout the simulation.\n",
      "- Rep 3: The weights were fixed throughout the simulation.\n",
      "\n",
      "0 out of 5, or 0.0% iterations had an empty list of swappable pairs.\n",
      "4 out of 5, or 80.0% of attempted exchanges were rejected.\n",
      "\n",
      "Time elapsed: 14 minute(s) 52 second(s)\n"
     ]
    }
   ],
   "source": [
    "!mpirun -np 4 run_REXEE"
   ]
  },
  {
   "cell_type": "markdown",
   "id": "3ebdb692",
   "metadata": {},
   "source": [
    "## 3. Analyzing a REXEE simulation"
   ]
  },
  {
   "cell_type": "markdown",
   "metadata": {},
   "source": []
  }
 ],
 "metadata": {
  "kernelspec": {
   "display_name": "Python 3",
   "language": "python",
   "name": "python3"
  },
  "language_info": {
   "codemirror_mode": {
    "name": "ipython",
    "version": 3
   },
   "file_extension": ".py",
   "mimetype": "text/x-python",
   "name": "python",
   "nbconvert_exporter": "python",
   "pygments_lexer": "ipython3",
   "version": "3.9.15"
  }
 },
 "nbformat": 4,
 "nbformat_minor": 5
}
